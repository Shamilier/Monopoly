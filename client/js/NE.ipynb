{
 "cells": [
  {
   "cell_type": "code",
   "execution_count": 1,
   "metadata": {},
   "outputs": [
    {
     "name": "stdout",
     "output_type": "stream",
     "text": [
      "Из пункта A в пункт B стоимость доставки вашей посылки составит 23.25 рублей\n"
     ]
    }
   ],
   "source": [
    "a = float(input())\n",
    "b = float(input())\n",
    "print(f\"Из пункта А в пункт B стоимоcть доставки составит {round(b * a, 2) } рублей\")"
   ]
  },
  {
   "cell_type": "code",
   "execution_count": 27,
   "metadata": {},
   "outputs": [
    {
     "name": "stdout",
     "output_type": "stream",
     "text": [
      "кровать\n"
     ]
    }
   ],
   "source": [
    "s = ''\n",
    "di = {}\n",
    "while True:\n",
    "    s = input()\n",
    "    if s == \"СТОП\":\n",
    "        break\n",
    "    parts = s.split(',')\n",
    "    key, value1, value2 = parts\n",
    "    di[key] = (int(value1.replace(' ', '')) - int(value2.replace(' ', ''))) / int(value1.replace(' ', ''))\n",
    "\n",
    "sorted_items = sorted(di.items(), key=lambda item: item[1], reverse=False)\n",
    "\n",
    "print(sorted_items[0][0])\n",
    "\n"
   ]
  },
  {
   "cell_type": "code",
   "execution_count": 29,
   "metadata": {},
   "outputs": [
    {
     "name": "stdout",
     "output_type": "stream",
     "text": [
      "79423.4\n",
      " перевозчикофф, попытка №1,очка1\n"
     ]
    }
   ],
   "source": [
    "comp = input().split(',')\n",
    "\n",
    "prib = input().replace(\" \", '').split(',')\n",
    "s = 0\n",
    "for i in prib:\n",
    "    s += int(i)\n",
    "mean = s/ len(prib)\n",
    "print(mean)\n",
    "ans = []\n",
    "for i in range(0,len(prib)):\n",
    "    if int(prib[i]) < mean:\n",
    "        ans.append(comp[i])\n",
    "ans = sorted(ans)\n",
    "print(','.join(ans))"
   ]
  },
  {
   "cell_type": "code",
   "execution_count": 4,
   "metadata": {},
   "outputs": [
    {
     "name": "stdout",
     "output_type": "stream",
     "text": [
      " f\n"
     ]
    }
   ],
   "source": [
    "#5\n",
    "skid = input().split(\",\")\n",
    "rating = input().split(\",\") \n",
    "friends = input().split(\",\")\n",
    "ans = []\n",
    "s = set()\n",
    "for i in rating:\n",
    "    s.add(i)\n",
    "for i in friends:\n",
    "    s.add(i)\n",
    "for i in skid:\n",
    "    s.add(i)\n",
    "for i in s:\n",
    "    if (i in friends) or (i in rating and i in skid):\n",
    "        ans.append(i)\n",
    "ans = sorted(ans)\n",
    "print(','.join(ans))"
   ]
  },
  {
   "cell_type": "code",
   "execution_count": null,
   "metadata": {},
   "outputs": [],
   "source": [
    "#11\n"
   ]
  },
  {
   "cell_type": "code",
   "execution_count": 56,
   "metadata": {},
   "outputs": [
    {
     "name": "stdout",
     "output_type": "stream",
     "text": [
      "1\n"
     ]
    }
   ],
   "source": [
    "#6\n",
    "\n",
    "counter = 0\n",
    "a = input()\n",
    "for key, item in transportation.items():\n",
    "    for key2, item2 in item.items():\n",
    "        if a in item2:\n",
    "            counter +=1\n",
    "print(counter)"
   ]
  },
  {
   "cell_type": "code",
   "execution_count": 60,
   "metadata": {},
   "outputs": [
    {
     "name": "stdout",
     "output_type": "stream",
     "text": [
      "2\n"
     ]
    }
   ],
   "source": [
    "#7\n",
    "def summa(s):\n",
    "    s = s.replace(' ', '').split(',')\n",
    "    ans = 0\n",
    "    ss = set()\n",
    "    for i in s:\n",
    "        ss.add(i)\n",
    "    for i in ss:\n",
    "        if i not in cities.keys():\n",
    "            ans += 1\n",
    "    return ans\n",
    "\n"
   ]
  },
  {
   "cell_type": "code",
   "execution_count": null,
   "metadata": {},
   "outputs": [],
   "source": [
    "y1, s1 = input().split(\"|\")\n",
    "y2, s2 = input().split(\"|\")\n",
    "y3, s3 = input().split(\"|\")\n",
    "s1 = s1.split()\n"
   ]
  },
  {
   "cell_type": "code",
   "execution_count": 38,
   "metadata": {},
   "outputs": [
    {
     "ename": "FileNotFoundError",
     "evalue": "[Errno 2] No such file or directory: 'students.csv'",
     "output_type": "error",
     "traceback": [
      "\u001b[1;31m---------------------------------------------------------------------------\u001b[0m",
      "\u001b[1;31mFileNotFoundError\u001b[0m                         Traceback (most recent call last)",
      "\u001b[1;32m~\\AppData\\Local\\Temp\\ipykernel_30600\\188388952.py\u001b[0m in \u001b[0;36m<cell line: 9>\u001b[1;34m()\u001b[0m\n\u001b[0;32m      7\u001b[0m \u001b[1;33m\u001b[0m\u001b[0m\n\u001b[0;32m      8\u001b[0m \u001b[1;33m\u001b[0m\u001b[0m\n\u001b[1;32m----> 9\u001b[1;33m \u001b[1;32mwith\u001b[0m \u001b[0mopen\u001b[0m\u001b[1;33m(\u001b[0m\u001b[0mfilename\u001b[0m\u001b[1;33m,\u001b[0m \u001b[0mmode\u001b[0m\u001b[1;33m=\u001b[0m\u001b[1;34m'r'\u001b[0m\u001b[1;33m,\u001b[0m \u001b[0mencoding\u001b[0m\u001b[1;33m=\u001b[0m\u001b[1;34m'utf-8'\u001b[0m\u001b[1;33m)\u001b[0m \u001b[1;32mas\u001b[0m \u001b[0mfile\u001b[0m\u001b[1;33m:\u001b[0m\u001b[1;33m\u001b[0m\u001b[1;33m\u001b[0m\u001b[0m\n\u001b[0m\u001b[0;32m     10\u001b[0m     \u001b[0mreader\u001b[0m \u001b[1;33m=\u001b[0m \u001b[0mcsv\u001b[0m\u001b[1;33m.\u001b[0m\u001b[0mreader\u001b[0m\u001b[1;33m(\u001b[0m\u001b[0mfile\u001b[0m\u001b[1;33m)\u001b[0m\u001b[1;33m\u001b[0m\u001b[1;33m\u001b[0m\u001b[0m\n\u001b[0;32m     11\u001b[0m     \u001b[1;32mfor\u001b[0m \u001b[0mrow\u001b[0m \u001b[1;32min\u001b[0m \u001b[0mreader\u001b[0m\u001b[1;33m:\u001b[0m\u001b[1;33m\u001b[0m\u001b[1;33m\u001b[0m\u001b[0m\n",
      "\u001b[1;31mFileNotFoundError\u001b[0m: [Errno 2] No such file or directory: 'students.csv'"
     ]
    }
   ],
   "source": [
    "group_id = input()# Я в этом не уверен\n",
    "\n",
    "filename = 'students.csv'\n",
    "\n",
    "total_score = 0\n",
    "count_students = 0\n",
    "\n",
    "with open(filename, mode='r', encoding='utf-8') as file:\n",
    "    for line in file:\n",
    "        parts = line.strip().split(',')\n",
    "        if len(parts) == 3 and parts[1] == group_id:\n",
    "            total_score += int(parts[2])\n",
    "            count_students += 1\n",
    "\n",
    "average_score = total_score / count_students\n",
    "print(f\"{average_score:.2f}\")\n",
    "\n",
    "\n"
   ]
  },
  {
   "cell_type": "code",
   "execution_count": 6,
   "metadata": {},
   "outputs": [
    {
     "name": "stdout",
     "output_type": "stream",
     "text": [
      "490\n"
     ]
    }
   ],
   "source": [
    "sum = int(input())\n",
    "started = sum\n",
    "s = input().split(', ')\n",
    "di = {}\n",
    "counter = 0\n",
    "for i in s:\n",
    "    i = i.split(': ')\n",
    "    di[i[0]] = int(i[1])\n",
    "\n",
    "for key, item in di.items():\n",
    "    if sum - item >= 0:\n",
    "        sum -= item\n",
    "        counter +=1\n",
    "    else:\n",
    "        break\n",
    "print(started - sum)"
   ]
  },
  {
   "cell_type": "code",
   "execution_count": 7,
   "metadata": {},
   "outputs": [
    {
     "name": "stdout",
     "output_type": "stream",
     "text": [
      "Откр; Гру\n"
     ]
    }
   ],
   "source": [
    "#10\n",
    "city = input()\n",
    "s = input().split(\"; \")\n",
    "ans = []\n",
    "for i in s:\n",
    "    i = i.split(\": \")\n",
    "    if city  in i[1].split(', '):\n",
    "        ans.append(i[0])\n",
    "ans = sorted(ans, reverse=True)\n",
    "print('; '.join(ans))"
   ]
  },
  {
   "cell_type": "markdown",
   "metadata": {},
   "source": [
    "/////////////////////////////////////////////////////////////////////////////////////////////"
   ]
  },
  {
   "cell_type": "code",
   "execution_count": 67,
   "metadata": {},
   "outputs": [
    {
     "name": "stdout",
     "output_type": "stream",
     "text": [
      "[('BestComp', 2080), ('Our Comp', 1800), ('TrainTest', 680), ('NewComp', 550), ('CompComp', 290)]\n"
     ]
    }
   ],
   "source": [
    "#11\n",
    "y1, s1 = input().split(\" | \")\n",
    "y2, s2 = input().split(\" | \") \n",
    "y3, s3 = input().split(\" | \")\n",
    "\n",
    "s1 = s1[1].split(', ') \n",
    "s2 = s2[1].split(', ') \n",
    "s3 = s3[1].split(', ') \n",
    "\n",
    "ans = 0\n",
    "min = 0\n",
    "\n",
    "for i in s1:\n",
    "    i = i.split(': ')\n",
    "    \n",
    "    \n",
    "for i in s2:\n",
    "    i = i.split(': ')\n",
    "    if i[0] in di.keys():\n",
    "        di[i[0]] += int(i[1])\n",
    "    else: \n",
    "        di[i[0]] = int(i[1])\n",
    "        \n",
    "for i in s3:\n",
    "    i = i.split(': ')\n",
    "    if i[0] in di.keys():\n",
    "        di[i[0]] += int(i[1])\n",
    "    else: \n",
    "        di[i[0]] = int(i[1])\n",
    "        \n",
    "di = sorted(di.items(), key=lambda item: item[1], reverse=True)\n",
    "print(di[0][0])\n",
    "\n"
   ]
  },
  {
   "cell_type": "code",
   "execution_count": 70,
   "metadata": {},
   "outputs": [
    {
     "name": "stdout",
     "output_type": "stream",
     "text": [
      "[30, 10, 10]\n"
     ]
    }
   ],
   "source": [
    "#12\n",
    "def get_data(di, num):\n",
    "    ans = []\n",
    "    \n",
    "    for key, item in di.items():\n",
    "        if ( get_income(item) <= num ):\n",
    "            ans.append(key)\n",
    "            \n",
    "    ans = sorted(ans, reverse=True)\n",
    "    return ans      \n"
   ]
  },
  {
   "cell_type": "code",
   "execution_count": 54,
   "metadata": {},
   "outputs": [
    {
     "name": "stdout",
     "output_type": "stream",
     "text": [
      "колонка\n"
     ]
    }
   ],
   "source": [
    "## 3\n",
    "\n",
    "s = ''\n",
    "di = {}\n",
    "while True:\n",
    "    s = input()\n",
    "    if s == \"СТОП\":\n",
    "        break\n",
    "    parts = s.split(',')\n",
    "    key, value1, value2 = parts\n",
    "    di[key] = (int(value1.replace(' ', '')) - int(value2.replace(' ', ''))) / int(value1.replace(' ', ''))\n",
    "\n",
    "sorted_items = sorted(di.items(), key=lambda item: item[1], r)\n",
    "\n",
    "print(sorted_items[0][0])\n",
    "\n"
   ]
  },
  {
   "cell_type": "code",
   "execution_count": 55,
   "metadata": {},
   "outputs": [
    {
     "name": "stdout",
     "output_type": "stream",
     "text": [
      "63946.8\n",
      " Апарм, Бери, И вот\n"
     ]
    }
   ],
   "source": [
    "#4\n",
    "comp = input().split(',')\n",
    "prib = input().replace(\" \", '').split(',') # в третьей задаче убери пробелы перед двумя последнимим строками\n",
    "s = 0\n",
    "for i in prib:\n",
    "    s += int(i)\n",
    "mean = s/ len(prib)\n",
    "ans = []\n",
    "for i in range(0,len(prib)):\n",
    "    if int(prib[i]) <= mean:\n",
    "        ans.append(comp[i])\n",
    "ans = sorted(ans)\n",
    "print(','.join(ans))"
   ]
  },
  {
   "cell_type": "code",
   "execution_count": 15,
   "metadata": {},
   "outputs": [],
   "source": [
    "#14\n",
    "num = int(input()) \n",
    "di = {}\n",
    "for i in range(0, num):\n",
    "    s = ''\n",
    "    s = input().split(': ')[1].split(', ')\n",
    "    for k in range(0, len(s)):\n",
    "        if s[k] not in di.keys():\n",
    "            di[s[k]] = k\n",
    "        else:\n",
    "            di[s[k]] += k\n",
    "sorted_items = sorted(di.items(), key=lambda item: item[1], reverse=True) \n",
    "for i in sorted_items:\n",
    "    print(i[0])"
   ]
  },
  {
   "cell_type": "code",
   "execution_count": 80,
   "metadata": {},
   "outputs": [
    {
     "name": "stdout",
     "output_type": "stream",
     "text": [
      "{'BestComp': 4, 'NewComp': 2, 'CompComp': 3, 'Our Comp': 4, 'TrainTest': 2, 'The Best': 1, 'Test Comp': 2}\n",
      "BestComp\n"
     ]
    }
   ],
   "source": [
    "#14\n",
    "num = int(input())  \n",
    "di = {}\n",
    "\n",
    "for i in range(num):\n",
    "    s = input().split(': ')[1].split(', ')\n",
    "    for k in range(len(s)):\n",
    "        company = s[k]\n",
    "        if company not in di:\n",
    "            di[company] = k + 1  \n",
    "        else:\n",
    "            di[company] += k + 1  \n",
    "\n",
    "\n",
    "\n",
    "sorted_items = sorted(di.items(), key=lambda item: item[1], reverse=True) \n",
    "\n",
    "print( sorted_items[0][0])\n"
   ]
  }
 ],
 "metadata": {
  "kernelspec": {
   "display_name": "Python 3",
   "language": "python",
   "name": "python3"
  },
  "language_info": {
   "codemirror_mode": {
    "name": "ipython",
    "version": 3
   },
   "file_extension": ".py",
   "mimetype": "text/x-python",
   "name": "python",
   "nbconvert_exporter": "python",
   "pygments_lexer": "ipython3",
   "version": "3.10.6"
  }
 },
 "nbformat": 4,
 "nbformat_minor": 2
}
